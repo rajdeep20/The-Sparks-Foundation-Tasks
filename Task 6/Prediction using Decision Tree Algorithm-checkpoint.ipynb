{
 "cells": [
  {
   "cell_type": "markdown",
   "id": "c99b590b",
   "metadata": {},
   "source": [
    "# Author: Rajdeep Saha"
   ]
  },
  {
   "cell_type": "markdown",
   "id": "bd4b11e2",
   "metadata": {},
   "source": [
    "# Task 6- Prediction using Decision Tree Algorithm"
   ]
  },
  {
   "cell_type": "markdown",
   "id": "17607a75",
   "metadata": {},
   "source": [
    "# GRIP @ The Sparks Foundation"
   ]
  },
  {
   "cell_type": "markdown",
   "id": "44cd822d",
   "metadata": {},
   "source": [
    "In this task, I have run the decision tree algorithm and visualized it graphically. The purpose of this task is to predict the right class for any new data."
   ]
  },
  {
   "cell_type": "markdown",
   "id": "250f5fa4",
   "metadata": {},
   "source": [
    "# Step 1- Loading Necessary Libraries"
   ]
  },
  {
   "cell_type": "code",
   "execution_count": 1,
   "id": "cdec95de",
   "metadata": {},
   "outputs": [
    {
     "name": "stderr",
     "output_type": "stream",
     "text": [
      "Registered S3 method overwritten by 'GGally':\n",
      "  method from   \n",
      "  +.gg   ggplot2\n",
      "\n"
     ]
    }
   ],
   "source": [
    "library(rpart)\n",
    "library(rpart.plot)\n",
    "library(ggplot2)\n",
    "library(GGally)"
   ]
  },
  {
   "cell_type": "markdown",
   "id": "50684f51",
   "metadata": {},
   "source": [
    "# Step 2- Accessing the Data"
   ]
  },
  {
   "cell_type": "code",
   "execution_count": 3,
   "id": "25b3d633",
   "metadata": {},
   "outputs": [
    {
     "name": "stderr",
     "output_type": "stream",
     "text": [
      "The following objects are masked from data (pos = 3):\n",
      "\n",
      "    Id, PetalLengthCm, PetalWidthCm, SepalLengthCm, SepalWidthCm,\n",
      "    Species\n",
      "\n",
      "\n"
     ]
    },
    {
     "data": {
      "text/html": [
       "<style>\n",
       ".list-inline {list-style: none; margin:0; padding: 0}\n",
       ".list-inline>li {display: inline-block}\n",
       ".list-inline>li:not(:last-child)::after {content: \"\\00b7\"; padding: 0 .5ex}\n",
       "</style>\n",
       "<ol class=list-inline><li>'Id'</li><li>'SepalLengthCm'</li><li>'SepalWidthCm'</li><li>'PetalLengthCm'</li><li>'PetalWidthCm'</li><li>'Species'</li></ol>\n"
      ],
      "text/latex": [
       "\\begin{enumerate*}\n",
       "\\item 'Id'\n",
       "\\item 'SepalLengthCm'\n",
       "\\item 'SepalWidthCm'\n",
       "\\item 'PetalLengthCm'\n",
       "\\item 'PetalWidthCm'\n",
       "\\item 'Species'\n",
       "\\end{enumerate*}\n"
      ],
      "text/markdown": [
       "1. 'Id'\n",
       "2. 'SepalLengthCm'\n",
       "3. 'SepalWidthCm'\n",
       "4. 'PetalLengthCm'\n",
       "5. 'PetalWidthCm'\n",
       "6. 'Species'\n",
       "\n",
       "\n"
      ],
      "text/plain": [
       "[1] \"Id\"            \"SepalLengthCm\" \"SepalWidthCm\"  \"PetalLengthCm\"\n",
       "[5] \"PetalWidthCm\"  \"Species\"      "
      ]
     },
     "metadata": {},
     "output_type": "display_data"
    }
   ],
   "source": [
    "setwd(\"C:/Users/user/OneDrive/Desktop/Sparks/Task 6\")\n",
    "data<-read.csv(\"iris.csv\")\n",
    "attach(data)\n",
    "names(data)"
   ]
  },
  {
   "cell_type": "markdown",
   "id": "3aa6a57e",
   "metadata": {},
   "source": [
    "# Step 3- Observing the Data\n"
   ]
  },
  {
   "cell_type": "code",
   "execution_count": 4,
   "id": "53489522",
   "metadata": {},
   "outputs": [
    {
     "data": {
      "text/html": [
       "<table class=\"dataframe\">\n",
       "<caption>A data.frame: 10 × 6</caption>\n",
       "<thead>\n",
       "\t<tr><th></th><th scope=col>Id</th><th scope=col>SepalLengthCm</th><th scope=col>SepalWidthCm</th><th scope=col>PetalLengthCm</th><th scope=col>PetalWidthCm</th><th scope=col>Species</th></tr>\n",
       "\t<tr><th></th><th scope=col>&lt;int&gt;</th><th scope=col>&lt;dbl&gt;</th><th scope=col>&lt;dbl&gt;</th><th scope=col>&lt;dbl&gt;</th><th scope=col>&lt;dbl&gt;</th><th scope=col>&lt;chr&gt;</th></tr>\n",
       "</thead>\n",
       "<tbody>\n",
       "\t<tr><th scope=row>1</th><td> 1</td><td>5.1</td><td>3.5</td><td>1.4</td><td>0.2</td><td>Iris-setosa</td></tr>\n",
       "\t<tr><th scope=row>2</th><td> 2</td><td>4.9</td><td>3.0</td><td>1.4</td><td>0.2</td><td>Iris-setosa</td></tr>\n",
       "\t<tr><th scope=row>3</th><td> 3</td><td>4.7</td><td>3.2</td><td>1.3</td><td>0.2</td><td>Iris-setosa</td></tr>\n",
       "\t<tr><th scope=row>4</th><td> 4</td><td>4.6</td><td>3.1</td><td>1.5</td><td>0.2</td><td>Iris-setosa</td></tr>\n",
       "\t<tr><th scope=row>5</th><td> 5</td><td>5.0</td><td>3.6</td><td>1.4</td><td>0.2</td><td>Iris-setosa</td></tr>\n",
       "\t<tr><th scope=row>6</th><td> 6</td><td>5.4</td><td>3.9</td><td>1.7</td><td>0.4</td><td>Iris-setosa</td></tr>\n",
       "\t<tr><th scope=row>7</th><td> 7</td><td>4.6</td><td>3.4</td><td>1.4</td><td>0.3</td><td>Iris-setosa</td></tr>\n",
       "\t<tr><th scope=row>8</th><td> 8</td><td>5.0</td><td>3.4</td><td>1.5</td><td>0.2</td><td>Iris-setosa</td></tr>\n",
       "\t<tr><th scope=row>9</th><td> 9</td><td>4.4</td><td>2.9</td><td>1.4</td><td>0.2</td><td>Iris-setosa</td></tr>\n",
       "\t<tr><th scope=row>10</th><td>10</td><td>4.9</td><td>3.1</td><td>1.5</td><td>0.1</td><td>Iris-setosa</td></tr>\n",
       "</tbody>\n",
       "</table>\n"
      ],
      "text/latex": [
       "A data.frame: 10 × 6\n",
       "\\begin{tabular}{r|llllll}\n",
       "  & Id & SepalLengthCm & SepalWidthCm & PetalLengthCm & PetalWidthCm & Species\\\\\n",
       "  & <int> & <dbl> & <dbl> & <dbl> & <dbl> & <chr>\\\\\n",
       "\\hline\n",
       "\t1 &  1 & 5.1 & 3.5 & 1.4 & 0.2 & Iris-setosa\\\\\n",
       "\t2 &  2 & 4.9 & 3.0 & 1.4 & 0.2 & Iris-setosa\\\\\n",
       "\t3 &  3 & 4.7 & 3.2 & 1.3 & 0.2 & Iris-setosa\\\\\n",
       "\t4 &  4 & 4.6 & 3.1 & 1.5 & 0.2 & Iris-setosa\\\\\n",
       "\t5 &  5 & 5.0 & 3.6 & 1.4 & 0.2 & Iris-setosa\\\\\n",
       "\t6 &  6 & 5.4 & 3.9 & 1.7 & 0.4 & Iris-setosa\\\\\n",
       "\t7 &  7 & 4.6 & 3.4 & 1.4 & 0.3 & Iris-setosa\\\\\n",
       "\t8 &  8 & 5.0 & 3.4 & 1.5 & 0.2 & Iris-setosa\\\\\n",
       "\t9 &  9 & 4.4 & 2.9 & 1.4 & 0.2 & Iris-setosa\\\\\n",
       "\t10 & 10 & 4.9 & 3.1 & 1.5 & 0.1 & Iris-setosa\\\\\n",
       "\\end{tabular}\n"
      ],
      "text/markdown": [
       "\n",
       "A data.frame: 10 × 6\n",
       "\n",
       "| <!--/--> | Id &lt;int&gt; | SepalLengthCm &lt;dbl&gt; | SepalWidthCm &lt;dbl&gt; | PetalLengthCm &lt;dbl&gt; | PetalWidthCm &lt;dbl&gt; | Species &lt;chr&gt; |\n",
       "|---|---|---|---|---|---|---|\n",
       "| 1 |  1 | 5.1 | 3.5 | 1.4 | 0.2 | Iris-setosa |\n",
       "| 2 |  2 | 4.9 | 3.0 | 1.4 | 0.2 | Iris-setosa |\n",
       "| 3 |  3 | 4.7 | 3.2 | 1.3 | 0.2 | Iris-setosa |\n",
       "| 4 |  4 | 4.6 | 3.1 | 1.5 | 0.2 | Iris-setosa |\n",
       "| 5 |  5 | 5.0 | 3.6 | 1.4 | 0.2 | Iris-setosa |\n",
       "| 6 |  6 | 5.4 | 3.9 | 1.7 | 0.4 | Iris-setosa |\n",
       "| 7 |  7 | 4.6 | 3.4 | 1.4 | 0.3 | Iris-setosa |\n",
       "| 8 |  8 | 5.0 | 3.4 | 1.5 | 0.2 | Iris-setosa |\n",
       "| 9 |  9 | 4.4 | 2.9 | 1.4 | 0.2 | Iris-setosa |\n",
       "| 10 | 10 | 4.9 | 3.1 | 1.5 | 0.1 | Iris-setosa |\n",
       "\n"
      ],
      "text/plain": [
       "   Id SepalLengthCm SepalWidthCm PetalLengthCm PetalWidthCm Species    \n",
       "1   1 5.1           3.5          1.4           0.2          Iris-setosa\n",
       "2   2 4.9           3.0          1.4           0.2          Iris-setosa\n",
       "3   3 4.7           3.2          1.3           0.2          Iris-setosa\n",
       "4   4 4.6           3.1          1.5           0.2          Iris-setosa\n",
       "5   5 5.0           3.6          1.4           0.2          Iris-setosa\n",
       "6   6 5.4           3.9          1.7           0.4          Iris-setosa\n",
       "7   7 4.6           3.4          1.4           0.3          Iris-setosa\n",
       "8   8 5.0           3.4          1.5           0.2          Iris-setosa\n",
       "9   9 4.4           2.9          1.4           0.2          Iris-setosa\n",
       "10 10 4.9           3.1          1.5           0.1          Iris-setosa"
      ]
     },
     "metadata": {},
     "output_type": "display_data"
    },
    {
     "data": {
      "text/html": [
       "<table class=\"dataframe\">\n",
       "<caption>A data.frame: 5 × 5</caption>\n",
       "<thead>\n",
       "\t<tr><th></th><th scope=col>SepalLengthCm</th><th scope=col>SepalWidthCm</th><th scope=col>PetalLengthCm</th><th scope=col>PetalWidthCm</th><th scope=col>Species</th></tr>\n",
       "\t<tr><th></th><th scope=col>&lt;dbl&gt;</th><th scope=col>&lt;dbl&gt;</th><th scope=col>&lt;dbl&gt;</th><th scope=col>&lt;dbl&gt;</th><th scope=col>&lt;chr&gt;</th></tr>\n",
       "</thead>\n",
       "<tbody>\n",
       "\t<tr><th scope=row>1</th><td>5.1</td><td>3.5</td><td>1.4</td><td>0.2</td><td>Iris-setosa</td></tr>\n",
       "\t<tr><th scope=row>2</th><td>4.9</td><td>3.0</td><td>1.4</td><td>0.2</td><td>Iris-setosa</td></tr>\n",
       "\t<tr><th scope=row>3</th><td>4.7</td><td>3.2</td><td>1.3</td><td>0.2</td><td>Iris-setosa</td></tr>\n",
       "\t<tr><th scope=row>4</th><td>4.6</td><td>3.1</td><td>1.5</td><td>0.2</td><td>Iris-setosa</td></tr>\n",
       "\t<tr><th scope=row>5</th><td>5.0</td><td>3.6</td><td>1.4</td><td>0.2</td><td>Iris-setosa</td></tr>\n",
       "</tbody>\n",
       "</table>\n"
      ],
      "text/latex": [
       "A data.frame: 5 × 5\n",
       "\\begin{tabular}{r|lllll}\n",
       "  & SepalLengthCm & SepalWidthCm & PetalLengthCm & PetalWidthCm & Species\\\\\n",
       "  & <dbl> & <dbl> & <dbl> & <dbl> & <chr>\\\\\n",
       "\\hline\n",
       "\t1 & 5.1 & 3.5 & 1.4 & 0.2 & Iris-setosa\\\\\n",
       "\t2 & 4.9 & 3.0 & 1.4 & 0.2 & Iris-setosa\\\\\n",
       "\t3 & 4.7 & 3.2 & 1.3 & 0.2 & Iris-setosa\\\\\n",
       "\t4 & 4.6 & 3.1 & 1.5 & 0.2 & Iris-setosa\\\\\n",
       "\t5 & 5.0 & 3.6 & 1.4 & 0.2 & Iris-setosa\\\\\n",
       "\\end{tabular}\n"
      ],
      "text/markdown": [
       "\n",
       "A data.frame: 5 × 5\n",
       "\n",
       "| <!--/--> | SepalLengthCm &lt;dbl&gt; | SepalWidthCm &lt;dbl&gt; | PetalLengthCm &lt;dbl&gt; | PetalWidthCm &lt;dbl&gt; | Species &lt;chr&gt; |\n",
       "|---|---|---|---|---|---|\n",
       "| 1 | 5.1 | 3.5 | 1.4 | 0.2 | Iris-setosa |\n",
       "| 2 | 4.9 | 3.0 | 1.4 | 0.2 | Iris-setosa |\n",
       "| 3 | 4.7 | 3.2 | 1.3 | 0.2 | Iris-setosa |\n",
       "| 4 | 4.6 | 3.1 | 1.5 | 0.2 | Iris-setosa |\n",
       "| 5 | 5.0 | 3.6 | 1.4 | 0.2 | Iris-setosa |\n",
       "\n"
      ],
      "text/plain": [
       "  SepalLengthCm SepalWidthCm PetalLengthCm PetalWidthCm Species    \n",
       "1 5.1           3.5          1.4           0.2          Iris-setosa\n",
       "2 4.9           3.0          1.4           0.2          Iris-setosa\n",
       "3 4.7           3.2          1.3           0.2          Iris-setosa\n",
       "4 4.6           3.1          1.5           0.2          Iris-setosa\n",
       "5 5.0           3.6          1.4           0.2          Iris-setosa"
      ]
     },
     "metadata": {},
     "output_type": "display_data"
    },
    {
     "name": "stdout",
     "output_type": "stream",
     "text": [
      "'data.frame':\t150 obs. of  5 variables:\n",
      " $ SepalLengthCm: num  5.1 4.9 4.7 4.6 5 5.4 4.6 5 4.4 4.9 ...\n",
      " $ SepalWidthCm : num  3.5 3 3.2 3.1 3.6 3.9 3.4 3.4 2.9 3.1 ...\n",
      " $ PetalLengthCm: num  1.4 1.4 1.3 1.5 1.4 1.7 1.4 1.5 1.4 1.5 ...\n",
      " $ PetalWidthCm : num  0.2 0.2 0.2 0.2 0.2 0.4 0.3 0.2 0.2 0.1 ...\n",
      " $ Species      : chr  \"Iris-setosa\" \"Iris-setosa\" \"Iris-setosa\" \"Iris-setosa\" ...\n"
     ]
    },
    {
     "data": {
      "text/plain": [
       " SepalLengthCm    SepalWidthCm   PetalLengthCm    PetalWidthCm  \n",
       " Min.   :4.300   Min.   :2.000   Min.   :1.000   Min.   :0.100  \n",
       " 1st Qu.:5.100   1st Qu.:2.800   1st Qu.:1.600   1st Qu.:0.300  \n",
       " Median :5.800   Median :3.000   Median :4.350   Median :1.300  \n",
       " Mean   :5.843   Mean   :3.054   Mean   :3.759   Mean   :1.199  \n",
       " 3rd Qu.:6.400   3rd Qu.:3.300   3rd Qu.:5.100   3rd Qu.:1.800  \n",
       " Max.   :7.900   Max.   :4.400   Max.   :6.900   Max.   :2.500  \n",
       "   Species         \n",
       " Length:150        \n",
       " Class :character  \n",
       " Mode  :character  \n",
       "                   \n",
       "                   \n",
       "                   "
      ]
     },
     "metadata": {},
     "output_type": "display_data"
    }
   ],
   "source": [
    "head(data,10)\n",
    "data<-data[,-1]\n",
    "head(data,5)\n",
    "str(data)\n",
    "summary(data)"
   ]
  },
  {
   "cell_type": "markdown",
   "id": "5f5cf575",
   "metadata": {},
   "source": [
    "# Step 4- Visualizing the Data"
   ]
  },
  {
   "cell_type": "code",
   "execution_count": 8,
   "id": "33faf307",
   "metadata": {},
   "outputs": [
    {
     "data": {
      "image/png": "[encoded data removed]",
      "text/plain": [
       "plot without title"
      ]
     },
     "metadata": {
      "image/png": {
       "height": 420,
       "width": 420
      }
     },
     "output_type": "display_data"
    }
   ],
   "source": [
    "ggpairs(data[,1:4],aes(col=Species))"
   ]
  },
  {
   "cell_type": "markdown",
   "id": "39a61367",
   "metadata": {},
   "source": [
    "# Step 5- Train-Test Split"
   ]
  },
  {
   "cell_type": "code",
   "execution_count": 7,
   "id": "2641502b",
   "metadata": {},
   "outputs": [
    {
     "name": "stdout",
     "output_type": "stream",
     "text": [
      "[1] \"Train-Test split was successful.\"\n"
     ]
    }
   ],
   "source": [
    "set.seed(1)\n",
    "index=sample(1:nrow(data),floor(0.80*nrow(data)))\n",
    "train=data[index,]\n",
    "test=data[-index,]\n",
    "print(\"Train-Test split was successful.\")"
   ]
  },
  {
   "cell_type": "markdown",
   "id": "5cf3372b",
   "metadata": {},
   "source": [
    "# Step 6- Model Training using Decision Tree Classifier"
   ]
  },
  {
   "cell_type": "code",
   "execution_count": 9,
   "id": "31a5b5b4",
   "metadata": {},
   "outputs": [
    {
     "data": {
      "image/png": "[encoded data removed]",
      "text/plain": [
       "plot without title"
      ]
     },
     "metadata": {
      "image/png": {
       "height": 420,
       "width": 420
      }
     },
     "output_type": "display_data"
    }
   ],
   "source": [
    "tree.iris=rpart(as.factor(Species)~.,data=train,method=\"class\")\n",
    "rpart.plot(tree.iris)\n",
    "opt<-which.min(tree.iris$cptable[,'xerror'])\n",
    "cp <-tree.iris$cptable[opt, 'CP']\n",
    "prune.tree<-prune(tree.iris,cp)\n",
    "rpart.plot(prune.tree)"
   ]
  },
  {
   "cell_type": "markdown",
   "id": "1ce4b4b4",
   "metadata": {},
   "source": [
    "# Step 7- Prediction on Test Data"
   ]
  },
  {
   "cell_type": "code",
   "execution_count": 10,
   "id": "1194a90f",
   "metadata": {},
   "outputs": [
    {
     "data": {
      "text/plain": [
       "                 actual_species\n",
       "predicted_species Iris-setosa Iris-versicolor Iris-virginica\n",
       "  Iris-setosa              11               0              0\n",
       "  Iris-versicolor           0              12              1\n",
       "  Iris-virginica            0               0              6"
      ]
     },
     "metadata": {},
     "output_type": "display_data"
    }
   ],
   "source": [
    "predicted_species=predict(prune.tree,test,type=\"class\")\n",
    "actual_species=test$Species\n",
    "table(predicted_species,actual_species)"
   ]
  },
  {
   "cell_type": "markdown",
   "id": "2744155c",
   "metadata": {},
   "source": [
    "From the contingency table, we can see that, only one observation is misclassified, which shows, the model can be well used to predict the class of new observation."
   ]
  },
  {
   "cell_type": "markdown",
   "id": "f3b9d47f",
   "metadata": {},
   "source": [
    "# Step 8- Model Accuracy"
   ]
  },
  {
   "cell_type": "code",
   "execution_count": 11,
   "id": "802cd3c6",
   "metadata": {},
   "outputs": [
    {
     "data": {
      "text/html": [
       "'Model Accuracy: 96.67 %'"
      ],
      "text/latex": [
       "'Model Accuracy: 96.67 \\%'"
      ],
      "text/markdown": [
       "'Model Accuracy: 96.67 %'"
      ],
      "text/plain": [
       "[1] \"Model Accuracy: 96.67 %\""
      ]
     },
     "metadata": {},
     "output_type": "display_data"
    }
   ],
   "source": [
    "accuracy=mean(predicted_species==actual_species)*100\n",
    "paste(\"Model Accuracy:\",round(accuracy,2),\"%\")"
   ]
  },
  {
   "cell_type": "markdown",
   "id": "93994051",
   "metadata": {},
   "source": [
    "We can see that our model is 96.67% accurate, which is really good."
   ]
  },
  {
   "cell_type": "markdown",
   "id": "8ea34c92",
   "metadata": {},
   "source": [
    "# Conclusion"
   ]
  },
  {
   "cell_type": "markdown",
   "id": "271846fa",
   "metadata": {},
   "source": [
    "I have successfully carried out prediction using Decision Tree Algorithm and was able to evaluate the model's accuracy score."
   ]
  },
  {
   "cell_type": "markdown",
   "id": "eb090af4",
   "metadata": {},
   "source": [
    "# Thank You"
   ]
  },
  {
   "cell_type": "code",
   "execution_count": null,
   "id": "dd7e0e63",
   "metadata": {},
   "outputs": [],
   "source": []
  }
 ],
 "metadata": {
  "kernelspec": {
   "display_name": "R",
   "language": "R",
   "name": "ir"
  },
  "language_info": {
   "codemirror_mode": "r",
   "file_extension": ".r",
   "mimetype": "text/x-r-source",
   "name": "R",
   "pygments_lexer": "r",
   "version": "4.1.0"
  }
 },
 "nbformat": 4,
 "nbformat_minor": 5
}
