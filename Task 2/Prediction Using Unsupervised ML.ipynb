{
 "cells": [
  {
   "cell_type": "markdown",
   "id": "121a1ac6",
   "metadata": {},
   "source": [
    "# Author: Rajdeep Saha"
   ]
  },
  {
   "cell_type": "markdown",
   "id": "64598858",
   "metadata": {},
   "source": [
    "# Task 2- Prediction Using Unsupervised Machine Learning"
   ]
  },
  {
   "cell_type": "markdown",
   "id": "cd38c3db",
   "metadata": {},
   "source": [
    "# GRIP @ The Sparks Foundation"
   ]
  },
  {
   "cell_type": "markdown",
   "id": "1d1fda84",
   "metadata": {},
   "source": [
    "In this k-means clustering task, I have predicted the optimum number of clusters\n",
    "and represent it visually from the given 'Iris' Dataset."
   ]
  },
  {
   "cell_type": "markdown",
   "id": "56aeeef8",
   "metadata": {},
   "source": [
    "# Importing library"
   ]
  },
  {
   "cell_type": "code",
   "execution_count": 3,
   "id": "2a202496",
   "metadata": {},
   "outputs": [
    {
     "name": "stderr",
     "output_type": "stream",
     "text": [
      "Registered S3 methods overwritten by 'ggplot2':\n",
      "  method         from \n",
      "  [.quosures     rlang\n",
      "  c.quosures     rlang\n",
      "  print.quosures rlang\n"
     ]
    }
   ],
   "source": [
    "library(ggplot2)"
   ]
  },
  {
   "cell_type": "markdown",
   "id": "8bdf8a98",
   "metadata": {},
   "source": [
    "# Step 1- Importing the Dataset"
   ]
  },
  {
   "cell_type": "code",
   "execution_count": 4,
   "id": "69d84273",
   "metadata": {},
   "outputs": [
    {
     "data": {
      "text/html": [
       "<ol class=list-inline>\n",
       "\t<li>'Id'</li>\n",
       "\t<li>'SepalLengthCm'</li>\n",
       "\t<li>'SepalWidthCm'</li>\n",
       "\t<li>'PetalLengthCm'</li>\n",
       "\t<li>'PetalWidthCm'</li>\n",
       "\t<li>'Species'</li>\n",
       "</ol>\n"
      ],
      "text/latex": [
       "\\begin{enumerate*}\n",
       "\\item 'Id'\n",
       "\\item 'SepalLengthCm'\n",
       "\\item 'SepalWidthCm'\n",
       "\\item 'PetalLengthCm'\n",
       "\\item 'PetalWidthCm'\n",
       "\\item 'Species'\n",
       "\\end{enumerate*}\n"
      ],
      "text/markdown": [
       "1. 'Id'\n",
       "2. 'SepalLengthCm'\n",
       "3. 'SepalWidthCm'\n",
       "4. 'PetalLengthCm'\n",
       "5. 'PetalWidthCm'\n",
       "6. 'Species'\n",
       "\n",
       "\n"
      ],
      "text/plain": [
       "[1] \"Id\"            \"SepalLengthCm\" \"SepalWidthCm\"  \"PetalLengthCm\"\n",
       "[5] \"PetalWidthCm\"  \"Species\"      "
      ]
     },
     "metadata": {},
     "output_type": "display_data"
    }
   ],
   "source": [
    "setwd(\"C:/Users/user/OneDrive/Desktop/Sparks/Task 2\")\n",
    "data<-read.csv(\"iris.csv\")\n",
    "attach(data)\n",
    "names(data)"
   ]
  },
  {
   "cell_type": "markdown",
   "id": "0f8524fb",
   "metadata": {},
   "source": [
    "# Step 2- Data Observation"
   ]
  },
  {
   "cell_type": "code",
   "execution_count": 5,
   "id": "c36c0e32",
   "metadata": {},
   "outputs": [
    {
     "data": {
      "text/html": [
       "<table>\n",
       "<thead><tr><th scope=col>Id</th><th scope=col>SepalLengthCm</th><th scope=col>SepalWidthCm</th><th scope=col>PetalLengthCm</th><th scope=col>PetalWidthCm</th><th scope=col>Species</th></tr></thead>\n",
       "<tbody>\n",
       "\t<tr><td> 1         </td><td>5.1        </td><td>3.5        </td><td>1.4        </td><td>0.2        </td><td>Iris-setosa</td></tr>\n",
       "\t<tr><td> 2         </td><td>4.9        </td><td>3.0        </td><td>1.4        </td><td>0.2        </td><td>Iris-setosa</td></tr>\n",
       "\t<tr><td> 3         </td><td>4.7        </td><td>3.2        </td><td>1.3        </td><td>0.2        </td><td>Iris-setosa</td></tr>\n",
       "\t<tr><td> 4         </td><td>4.6        </td><td>3.1        </td><td>1.5        </td><td>0.2        </td><td>Iris-setosa</td></tr>\n",
       "\t<tr><td> 5         </td><td>5.0        </td><td>3.6        </td><td>1.4        </td><td>0.2        </td><td>Iris-setosa</td></tr>\n",
       "\t<tr><td> 6         </td><td>5.4        </td><td>3.9        </td><td>1.7        </td><td>0.4        </td><td>Iris-setosa</td></tr>\n",
       "\t<tr><td> 7         </td><td>4.6        </td><td>3.4        </td><td>1.4        </td><td>0.3        </td><td>Iris-setosa</td></tr>\n",
       "\t<tr><td> 8         </td><td>5.0        </td><td>3.4        </td><td>1.5        </td><td>0.2        </td><td>Iris-setosa</td></tr>\n",
       "\t<tr><td> 9         </td><td>4.4        </td><td>2.9        </td><td>1.4        </td><td>0.2        </td><td>Iris-setosa</td></tr>\n",
       "\t<tr><td>10         </td><td>4.9        </td><td>3.1        </td><td>1.5        </td><td>0.1        </td><td>Iris-setosa</td></tr>\n",
       "</tbody>\n",
       "</table>\n"
      ],
      "text/latex": [
       "\\begin{tabular}{r|llllll}\n",
       " Id & SepalLengthCm & SepalWidthCm & PetalLengthCm & PetalWidthCm & Species\\\\\n",
       "\\hline\n",
       "\t  1          & 5.1         & 3.5         & 1.4         & 0.2         & Iris-setosa\\\\\n",
       "\t  2          & 4.9         & 3.0         & 1.4         & 0.2         & Iris-setosa\\\\\n",
       "\t  3          & 4.7         & 3.2         & 1.3         & 0.2         & Iris-setosa\\\\\n",
       "\t  4          & 4.6         & 3.1         & 1.5         & 0.2         & Iris-setosa\\\\\n",
       "\t  5          & 5.0         & 3.6         & 1.4         & 0.2         & Iris-setosa\\\\\n",
       "\t  6          & 5.4         & 3.9         & 1.7         & 0.4         & Iris-setosa\\\\\n",
       "\t  7          & 4.6         & 3.4         & 1.4         & 0.3         & Iris-setosa\\\\\n",
       "\t  8          & 5.0         & 3.4         & 1.5         & 0.2         & Iris-setosa\\\\\n",
       "\t  9          & 4.4         & 2.9         & 1.4         & 0.2         & Iris-setosa\\\\\n",
       "\t 10          & 4.9         & 3.1         & 1.5         & 0.1         & Iris-setosa\\\\\n",
       "\\end{tabular}\n"
      ],
      "text/markdown": [
       "\n",
       "| Id | SepalLengthCm | SepalWidthCm | PetalLengthCm | PetalWidthCm | Species |\n",
       "|---|---|---|---|---|---|\n",
       "|  1          | 5.1         | 3.5         | 1.4         | 0.2         | Iris-setosa |\n",
       "|  2          | 4.9         | 3.0         | 1.4         | 0.2         | Iris-setosa |\n",
       "|  3          | 4.7         | 3.2         | 1.3         | 0.2         | Iris-setosa |\n",
       "|  4          | 4.6         | 3.1         | 1.5         | 0.2         | Iris-setosa |\n",
       "|  5          | 5.0         | 3.6         | 1.4         | 0.2         | Iris-setosa |\n",
       "|  6          | 5.4         | 3.9         | 1.7         | 0.4         | Iris-setosa |\n",
       "|  7          | 4.6         | 3.4         | 1.4         | 0.3         | Iris-setosa |\n",
       "|  8          | 5.0         | 3.4         | 1.5         | 0.2         | Iris-setosa |\n",
       "|  9          | 4.4         | 2.9         | 1.4         | 0.2         | Iris-setosa |\n",
       "| 10          | 4.9         | 3.1         | 1.5         | 0.1         | Iris-setosa |\n",
       "\n"
      ],
      "text/plain": [
       "   Id SepalLengthCm SepalWidthCm PetalLengthCm PetalWidthCm Species    \n",
       "1   1 5.1           3.5          1.4           0.2          Iris-setosa\n",
       "2   2 4.9           3.0          1.4           0.2          Iris-setosa\n",
       "3   3 4.7           3.2          1.3           0.2          Iris-setosa\n",
       "4   4 4.6           3.1          1.5           0.2          Iris-setosa\n",
       "5   5 5.0           3.6          1.4           0.2          Iris-setosa\n",
       "6   6 5.4           3.9          1.7           0.4          Iris-setosa\n",
       "7   7 4.6           3.4          1.4           0.3          Iris-setosa\n",
       "8   8 5.0           3.4          1.5           0.2          Iris-setosa\n",
       "9   9 4.4           2.9          1.4           0.2          Iris-setosa\n",
       "10 10 4.9           3.1          1.5           0.1          Iris-setosa"
      ]
     },
     "metadata": {},
     "output_type": "display_data"
    }
   ],
   "source": [
    "head(data,10)"
   ]
  },
  {
   "cell_type": "code",
   "execution_count": 6,
   "id": "45625599",
   "metadata": {},
   "outputs": [
    {
     "data": {
      "text/html": [
       "<table>\n",
       "<thead><tr><th scope=col>SepalLengthCm</th><th scope=col>SepalWidthCm</th><th scope=col>PetalLengthCm</th><th scope=col>PetalWidthCm</th><th scope=col>Species</th></tr></thead>\n",
       "<tbody>\n",
       "\t<tr><td>5.1        </td><td>3.5        </td><td>1.4        </td><td>0.2        </td><td>Iris-setosa</td></tr>\n",
       "\t<tr><td>4.9        </td><td>3.0        </td><td>1.4        </td><td>0.2        </td><td>Iris-setosa</td></tr>\n",
       "\t<tr><td>4.7        </td><td>3.2        </td><td>1.3        </td><td>0.2        </td><td>Iris-setosa</td></tr>\n",
       "\t<tr><td>4.6        </td><td>3.1        </td><td>1.5        </td><td>0.2        </td><td>Iris-setosa</td></tr>\n",
       "\t<tr><td>5.0        </td><td>3.6        </td><td>1.4        </td><td>0.2        </td><td>Iris-setosa</td></tr>\n",
       "</tbody>\n",
       "</table>\n"
      ],
      "text/latex": [
       "\\begin{tabular}{r|lllll}\n",
       " SepalLengthCm & SepalWidthCm & PetalLengthCm & PetalWidthCm & Species\\\\\n",
       "\\hline\n",
       "\t 5.1         & 3.5         & 1.4         & 0.2         & Iris-setosa\\\\\n",
       "\t 4.9         & 3.0         & 1.4         & 0.2         & Iris-setosa\\\\\n",
       "\t 4.7         & 3.2         & 1.3         & 0.2         & Iris-setosa\\\\\n",
       "\t 4.6         & 3.1         & 1.5         & 0.2         & Iris-setosa\\\\\n",
       "\t 5.0         & 3.6         & 1.4         & 0.2         & Iris-setosa\\\\\n",
       "\\end{tabular}\n"
      ],
      "text/markdown": [
       "\n",
       "| SepalLengthCm | SepalWidthCm | PetalLengthCm | PetalWidthCm | Species |\n",
       "|---|---|---|---|---|\n",
       "| 5.1         | 3.5         | 1.4         | 0.2         | Iris-setosa |\n",
       "| 4.9         | 3.0         | 1.4         | 0.2         | Iris-setosa |\n",
       "| 4.7         | 3.2         | 1.3         | 0.2         | Iris-setosa |\n",
       "| 4.6         | 3.1         | 1.5         | 0.2         | Iris-setosa |\n",
       "| 5.0         | 3.6         | 1.4         | 0.2         | Iris-setosa |\n",
       "\n"
      ],
      "text/plain": [
       "  SepalLengthCm SepalWidthCm PetalLengthCm PetalWidthCm Species    \n",
       "1 5.1           3.5          1.4           0.2          Iris-setosa\n",
       "2 4.9           3.0          1.4           0.2          Iris-setosa\n",
       "3 4.7           3.2          1.3           0.2          Iris-setosa\n",
       "4 4.6           3.1          1.5           0.2          Iris-setosa\n",
       "5 5.0           3.6          1.4           0.2          Iris-setosa"
      ]
     },
     "metadata": {},
     "output_type": "display_data"
    },
    {
     "name": "stdout",
     "output_type": "stream",
     "text": [
      "'data.frame':\t150 obs. of  5 variables:\n",
      " $ SepalLengthCm: num  5.1 4.9 4.7 4.6 5 5.4 4.6 5 4.4 4.9 ...\n",
      " $ SepalWidthCm : num  3.5 3 3.2 3.1 3.6 3.9 3.4 3.4 2.9 3.1 ...\n",
      " $ PetalLengthCm: num  1.4 1.4 1.3 1.5 1.4 1.7 1.4 1.5 1.4 1.5 ...\n",
      " $ PetalWidthCm : num  0.2 0.2 0.2 0.2 0.2 0.4 0.3 0.2 0.2 0.1 ...\n",
      " $ Species      : Factor w/ 3 levels \"Iris-setosa\",..: 1 1 1 1 1 1 1 1 1 1 ...\n"
     ]
    }
   ],
   "source": [
    "data<-data[,-1]\n",
    "head(data,5)\n",
    "str(data)"
   ]
  },
  {
   "cell_type": "code",
   "execution_count": 7,
   "id": "88db389b",
   "metadata": {},
   "outputs": [
    {
     "data": {
      "text/plain": [
       " SepalLengthCm    SepalWidthCm   PetalLengthCm    PetalWidthCm  \n",
       " Min.   :4.300   Min.   :2.000   Min.   :1.000   Min.   :0.100  \n",
       " 1st Qu.:5.100   1st Qu.:2.800   1st Qu.:1.600   1st Qu.:0.300  \n",
       " Median :5.800   Median :3.000   Median :4.350   Median :1.300  \n",
       " Mean   :5.843   Mean   :3.054   Mean   :3.759   Mean   :1.199  \n",
       " 3rd Qu.:6.400   3rd Qu.:3.300   3rd Qu.:5.100   3rd Qu.:1.800  \n",
       " Max.   :7.900   Max.   :4.400   Max.   :6.900   Max.   :2.500  \n",
       "            Species  \n",
       " Iris-setosa    :50  \n",
       " Iris-versicolor:50  \n",
       " Iris-virginica :50  \n",
       "                     \n",
       "                     \n",
       "                     "
      ]
     },
     "metadata": {},
     "output_type": "display_data"
    }
   ],
   "source": [
    "summary(data)"
   ]
  },
  {
   "cell_type": "markdown",
   "id": "eeadbfd9",
   "metadata": {},
   "source": [
    "# Step 3- Data Visualization"
   ]
  },
  {
   "cell_type": "code",
   "execution_count": 8,
   "id": "32b2e073",
   "metadata": {},
   "outputs": [
    {
     "data": {
      "image/png": "[encoded data removed]",
      "text/plain": [
       "plot without title"
      ]
     },
     "metadata": {},
     "output_type": "display_data"
    }
   ],
   "source": [
    "ggplot(data,aes(x=SepalLengthCm,y=SepalWidthCm,col=Species))+\n",
    "  geom_point(size=2)+\n",
    "  xlab(\"Sepal Length (in cm)\")+\n",
    "  ylab(\"Sepal Width (in cm)\")+\n",
    "  ggtitle(\"Scatterplot of Sepal Length-Sepal Width\")"
   ]
  },
  {
   "cell_type": "markdown",
   "id": "16a3c894",
   "metadata": {},
   "source": [
    "# Step 4- Choosing Optimum No. of Clusters (Elbow Method)"
   ]
  },
  {
   "cell_type": "code",
   "execution_count": 9,
   "id": "2e1343cd",
   "metadata": {},
   "outputs": [
    {
     "data": {
      "text/html": [
       "<table>\n",
       "<thead><tr><th scope=col>SepalLengthCm</th><th scope=col>SepalWidthCm</th><th scope=col>PetalLengthCm</th><th scope=col>PetalWidthCm</th></tr></thead>\n",
       "<tbody>\n",
       "\t<tr><td>5.1</td><td>3.5</td><td>1.4</td><td>0.2</td></tr>\n",
       "\t<tr><td>4.9</td><td>3.0</td><td>1.4</td><td>0.2</td></tr>\n",
       "\t<tr><td>4.7</td><td>3.2</td><td>1.3</td><td>0.2</td></tr>\n",
       "\t<tr><td>4.6</td><td>3.1</td><td>1.5</td><td>0.2</td></tr>\n",
       "\t<tr><td>5.0</td><td>3.6</td><td>1.4</td><td>0.2</td></tr>\n",
       "\t<tr><td>5.4</td><td>3.9</td><td>1.7</td><td>0.4</td></tr>\n",
       "</tbody>\n",
       "</table>\n"
      ],
      "text/latex": [
       "\\begin{tabular}{r|llll}\n",
       " SepalLengthCm & SepalWidthCm & PetalLengthCm & PetalWidthCm\\\\\n",
       "\\hline\n",
       "\t 5.1 & 3.5 & 1.4 & 0.2\\\\\n",
       "\t 4.9 & 3.0 & 1.4 & 0.2\\\\\n",
       "\t 4.7 & 3.2 & 1.3 & 0.2\\\\\n",
       "\t 4.6 & 3.1 & 1.5 & 0.2\\\\\n",
       "\t 5.0 & 3.6 & 1.4 & 0.2\\\\\n",
       "\t 5.4 & 3.9 & 1.7 & 0.4\\\\\n",
       "\\end{tabular}\n"
      ],
      "text/markdown": [
       "\n",
       "| SepalLengthCm | SepalWidthCm | PetalLengthCm | PetalWidthCm |\n",
       "|---|---|---|---|\n",
       "| 5.1 | 3.5 | 1.4 | 0.2 |\n",
       "| 4.9 | 3.0 | 1.4 | 0.2 |\n",
       "| 4.7 | 3.2 | 1.3 | 0.2 |\n",
       "| 4.6 | 3.1 | 1.5 | 0.2 |\n",
       "| 5.0 | 3.6 | 1.4 | 0.2 |\n",
       "| 5.4 | 3.9 | 1.7 | 0.4 |\n",
       "\n"
      ],
      "text/plain": [
       "  SepalLengthCm SepalWidthCm PetalLengthCm PetalWidthCm\n",
       "1 5.1           3.5          1.4           0.2         \n",
       "2 4.9           3.0          1.4           0.2         \n",
       "3 4.7           3.2          1.3           0.2         \n",
       "4 4.6           3.1          1.5           0.2         \n",
       "5 5.0           3.6          1.4           0.2         \n",
       "6 5.4           3.9          1.7           0.4         "
      ]
     },
     "metadata": {},
     "output_type": "display_data"
    },
    {
     "data": {
      "image/png": "[encoded data removed]",
      "text/plain": [
       "plot without title"
      ]
     },
     "metadata": {},
     "output_type": "display_data"
    }
   ],
   "source": [
    "iris_cl=data[,1:4]\n",
    "head(iris_cl)\n",
    "set.seed(2021)\n",
    "wss <-array(0)\n",
    "for (i in 1:15) {\n",
    "  km.out <- kmeans(iris_cl, centers = i, nstart = 10, iter.max = 300)\n",
    "  wss[i] <- km.out$tot.withinss\n",
    "}\n",
    "plot(1:15, wss, type = \"b\", \n",
    "     xlab = \"Number of Clusters\", \n",
    "     ylab = \"Within Clusters Sum of Squares(WCSS)\")"
   ]
  },
  {
   "cell_type": "markdown",
   "id": "086c8f5b",
   "metadata": {},
   "source": [
    "We can see that, as number of clusters increases, WCSS decreases. We can see that, after the number of clusters 3, the decrease in WCSS is minimal. So, we choose the optimum value of k to be 3."
   ]
  },
  {
   "cell_type": "markdown",
   "id": "7e17b124",
   "metadata": {},
   "source": [
    "# Step 5- k-means clustering with k=3"
   ]
  },
  {
   "cell_type": "code",
   "execution_count": 13,
   "id": "45e3ed8e",
   "metadata": {},
   "outputs": [
    {
     "data": {
      "text/html": [
       "<table>\n",
       "<thead><tr><th scope=col>SepalLengthCm</th><th scope=col>SepalWidthCm</th><th scope=col>PetalLengthCm</th><th scope=col>PetalWidthCm</th><th scope=col>cluster</th></tr></thead>\n",
       "<tbody>\n",
       "\t<tr><td>5.1</td><td>3.5</td><td>1.4</td><td>0.2</td><td>1  </td></tr>\n",
       "\t<tr><td>4.9</td><td>3.0</td><td>1.4</td><td>0.2</td><td>1  </td></tr>\n",
       "\t<tr><td>4.7</td><td>3.2</td><td>1.3</td><td>0.2</td><td>1  </td></tr>\n",
       "\t<tr><td>4.6</td><td>3.1</td><td>1.5</td><td>0.2</td><td>1  </td></tr>\n",
       "\t<tr><td>5.0</td><td>3.6</td><td>1.4</td><td>0.2</td><td>1  </td></tr>\n",
       "\t<tr><td>5.4</td><td>3.9</td><td>1.7</td><td>0.4</td><td>1  </td></tr>\n",
       "</tbody>\n",
       "</table>\n"
      ],
      "text/latex": [
       "\\begin{tabular}{r|lllll}\n",
       " SepalLengthCm & SepalWidthCm & PetalLengthCm & PetalWidthCm & cluster\\\\\n",
       "\\hline\n",
       "\t 5.1 & 3.5 & 1.4 & 0.2 & 1  \\\\\n",
       "\t 4.9 & 3.0 & 1.4 & 0.2 & 1  \\\\\n",
       "\t 4.7 & 3.2 & 1.3 & 0.2 & 1  \\\\\n",
       "\t 4.6 & 3.1 & 1.5 & 0.2 & 1  \\\\\n",
       "\t 5.0 & 3.6 & 1.4 & 0.2 & 1  \\\\\n",
       "\t 5.4 & 3.9 & 1.7 & 0.4 & 1  \\\\\n",
       "\\end{tabular}\n"
      ],
      "text/markdown": [
       "\n",
       "| SepalLengthCm | SepalWidthCm | PetalLengthCm | PetalWidthCm | cluster |\n",
       "|---|---|---|---|---|\n",
       "| 5.1 | 3.5 | 1.4 | 0.2 | 1   |\n",
       "| 4.9 | 3.0 | 1.4 | 0.2 | 1   |\n",
       "| 4.7 | 3.2 | 1.3 | 0.2 | 1   |\n",
       "| 4.6 | 3.1 | 1.5 | 0.2 | 1   |\n",
       "| 5.0 | 3.6 | 1.4 | 0.2 | 1   |\n",
       "| 5.4 | 3.9 | 1.7 | 0.4 | 1   |\n",
       "\n"
      ],
      "text/plain": [
       "  SepalLengthCm SepalWidthCm PetalLengthCm PetalWidthCm cluster\n",
       "1 5.1           3.5          1.4           0.2          1      \n",
       "2 4.9           3.0          1.4           0.2          1      \n",
       "3 4.7           3.2          1.3           0.2          1      \n",
       "4 4.6           3.1          1.5           0.2          1      \n",
       "5 5.0           3.6          1.4           0.2          1      \n",
       "6 5.4           3.9          1.7           0.4          1      "
      ]
     },
     "metadata": {},
     "output_type": "display_data"
    }
   ],
   "source": [
    "kmeans.cl=kmeans(iris_cl,centers=3,nstart=10)\n",
    "iris_cl$cluster <- as.character(kmeans.cl$cluster)\n",
    "head(iris_cl)"
   ]
  },
  {
   "cell_type": "markdown",
   "id": "9894da4f",
   "metadata": {},
   "source": [
    "# Step 6- Visualizing the Clusters"
   ]
  },
  {
   "cell_type": "code",
   "execution_count": 12,
   "id": "7fa7a59d",
   "metadata": {},
   "outputs": [
    {
     "data": {
      "image/png": "[encoded data removed]",
      "text/plain": [
       "plot without title"
      ]
     },
     "metadata": {},
     "output_type": "display_data"
    }
   ],
   "source": [
    "ggplot(iris_cl,aes(x = SepalLengthCm, y =SepalWidthCm,colour=cluster)) +\n",
    "  geom_point(size=2)+\n",
    "  geom_point(aes(x=kmeans.cl$center[1,1],y=kmeans.cl$center[1,2]),\n",
    "  colour=\"purple\",size=5,shape=19)+\n",
    "  geom_point(aes(x=kmeans.cl$center[2,1],y=kmeans.cl$center[2,2]),\n",
    "  colour=\"purple\",size=5,shape=19)+\n",
    "    geom_point(aes(x=kmeans.cl$center[3,1],y=kmeans.cl$center[3,2]),\n",
    "  colour=\"purple\",size=5,shape=19)+\n",
    "     geom_text(label=\"centroid 1\",x=kmeans.cl$center[1,1],y=kmeans.cl$center[1,2],color = \"black\")+\n",
    "     geom_text(label=\"centroid 2\",x=kmeans.cl$center[2,1],y=kmeans.cl$center[2,2],color = \"black\")+\n",
    "     geom_text(label=\"centroid 3\",x=kmeans.cl$center[3,1],y=kmeans.cl$center[3,2],color = \"black\")+\n",
    " scale_shape_discrete(labels = c(\"1(iris-setosa)\", \"2(iris-versicolor)\",\"3(iris-virginica)\"))+\n",
    "    scale_color_discrete(labels = c(\"1(iris-setosa)\", \"2(iris-versicolor)\",\"3(iris-virginica)\"))+\n",
    "      xlab(\"Sepal Length (in cm)\")+\n",
    "  ylab(\"Sepal Width (in cm)\")+\n",
    "  ggtitle(\"Visualization of k-means clustering\")\n"
   ]
  },
  {
   "cell_type": "markdown",
   "id": "61b63c9d",
   "metadata": {},
   "source": [
    "I have indicated the centroids and plotted the predicted graph, which is pretty similar to the actual graph."
   ]
  },
  {
   "cell_type": "markdown",
   "id": "fdb59f61",
   "metadata": {},
   "source": [
    "# Conclusion:"
   ]
  },
  {
   "cell_type": "markdown",
   "id": "cc1fcd3b",
   "metadata": {},
   "source": [
    "I have successfully obtained the optimum number of clusters for this 'Iris' dataset and run the k-means algorithm with the chosen number of clusters."
   ]
  },
  {
   "cell_type": "markdown",
   "id": "07becfb5",
   "metadata": {},
   "source": [
    "# Thank you"
   ]
  },
  {
   "cell_type": "code",
   "execution_count": null,
   "id": "d4cdcb78",
   "metadata": {},
   "outputs": [],
   "source": []
  }
 ],
 "metadata": {
  "kernelspec": {
   "display_name": "R",
   "language": "R",
   "name": "ir"
  },
  "language_info": {
   "codemirror_mode": "r",
   "file_extension": ".r",
   "mimetype": "text/x-r-source",
   "name": "R",
   "pygments_lexer": "r",
   "version": "3.6.1"
  }
 },
 "nbformat": 4,
 "nbformat_minor": 5
}
