{
 "cells": [
  {
   "cell_type": "markdown",
   "id": "a94da789",
   "metadata": {},
   "source": [
    "# Author: Rajdeep Saha"
   ]
  },
  {
   "cell_type": "markdown",
   "id": "5e4d714c",
   "metadata": {},
   "source": [
    "# Task 1: Prediction using Supervised Machine Learning"
   ]
  },
  {
   "cell_type": "markdown",
   "id": "6ff1db4f",
   "metadata": {},
   "source": [
    "# GRIP @ The Sparks Foundation"
   ]
  },
  {
   "cell_type": "markdown",
   "id": "87902e2d",
   "metadata": {},
   "source": [
    "In this regression task I have predicted the percentage of marks that a student is expected to score based upon the number of hours they studied. This is a simple linear regression problem as it has just one predictor."
   ]
  },
  {
   "cell_type": "markdown",
   "id": "9ba98a85",
   "metadata": {},
   "source": [
    "# Step 1- Reading the Data"
   ]
  },
  {
   "cell_type": "code",
   "execution_count": 3,
   "id": "ab11681e",
   "metadata": {},
   "outputs": [
    {
     "name": "stdout",
     "output_type": "stream",
     "text": [
      "[1] \"Data imported successfully\"\n"
     ]
    },
    {
     "data": {
      "text/html": [
       "<table>\n",
       "<thead><tr><th scope=col>Hours</th><th scope=col>Scores</th></tr></thead>\n",
       "<tbody>\n",
       "\t<tr><td>2.5</td><td>21 </td></tr>\n",
       "\t<tr><td>5.1</td><td>47 </td></tr>\n",
       "\t<tr><td>3.2</td><td>27 </td></tr>\n",
       "\t<tr><td>8.5</td><td>75 </td></tr>\n",
       "\t<tr><td>3.5</td><td>30 </td></tr>\n",
       "\t<tr><td>1.5</td><td>20 </td></tr>\n",
       "\t<tr><td>9.2</td><td>88 </td></tr>\n",
       "\t<tr><td>5.5</td><td>60 </td></tr>\n",
       "\t<tr><td>8.3</td><td>81 </td></tr>\n",
       "\t<tr><td>2.7</td><td>25 </td></tr>\n",
       "</tbody>\n",
       "</table>\n"
      ],
      "text/latex": [
       "\\begin{tabular}{r|ll}\n",
       " Hours & Scores\\\\\n",
       "\\hline\n",
       "\t 2.5 & 21 \\\\\n",
       "\t 5.1 & 47 \\\\\n",
       "\t 3.2 & 27 \\\\\n",
       "\t 8.5 & 75 \\\\\n",
       "\t 3.5 & 30 \\\\\n",
       "\t 1.5 & 20 \\\\\n",
       "\t 9.2 & 88 \\\\\n",
       "\t 5.5 & 60 \\\\\n",
       "\t 8.3 & 81 \\\\\n",
       "\t 2.7 & 25 \\\\\n",
       "\\end{tabular}\n"
      ],
      "text/markdown": [
       "\n",
       "| Hours | Scores |\n",
       "|---|---|\n",
       "| 2.5 | 21  |\n",
       "| 5.1 | 47  |\n",
       "| 3.2 | 27  |\n",
       "| 8.5 | 75  |\n",
       "| 3.5 | 30  |\n",
       "| 1.5 | 20  |\n",
       "| 9.2 | 88  |\n",
       "| 5.5 | 60  |\n",
       "| 8.3 | 81  |\n",
       "| 2.7 | 25  |\n",
       "\n"
      ],
      "text/plain": [
       "   Hours Scores\n",
       "1  2.5   21    \n",
       "2  5.1   47    \n",
       "3  3.2   27    \n",
       "4  8.5   75    \n",
       "5  3.5   30    \n",
       "6  1.5   20    \n",
       "7  9.2   88    \n",
       "8  5.5   60    \n",
       "9  8.3   81    \n",
       "10 2.7   25    "
      ]
     },
     "metadata": {},
     "output_type": "display_data"
    }
   ],
   "source": [
    "setwd(\"C:/Users/user/OneDrive/Desktop/Sparks/Task 1\")\n",
    "data<-read.csv(\"student_scores - student_scores.csv\")\n",
    "attach(data)\n",
    "print(\"Data imported successfully\")\n",
    "head(data,10)"
   ]
  },
  {
   "cell_type": "markdown",
   "id": "31ce8249",
   "metadata": {},
   "source": [
    "# Step 2- Input Data Visualization"
   ]
  },
  {
   "cell_type": "code",
   "execution_count": 4,
   "id": "08ef8bb7",
   "metadata": {},
   "outputs": [
    {
     "data": {
      "image/png": "[encoded data removed]",
      "text/plain": [
       "Plot with title \"Hours vs Percentage\""
      ]
     },
     "metadata": {},
     "output_type": "display_data"
    }
   ],
   "source": [
    "x=data$Hours\n",
    "y=data$Scores\n",
    "plot(x,y,xlab=\"Hours Studied\",ylab=\"Percentage Score\", main=\"Hours vs Percentage\",\n",
    "     col=\"red\",pch=20,cex=1.75)"
   ]
  },
  {
   "cell_type": "markdown",
   "id": "b9f25336",
   "metadata": {},
   "source": [
    "From the graph, we can conclude that there exist a positive linear relation between the number of hours studied and percentage of score."
   ]
  },
  {
   "cell_type": "markdown",
   "id": "3e5168bb",
   "metadata": {},
   "source": [
    "# Step 3- Train- Test Split"
   ]
  },
  {
   "cell_type": "code",
   "execution_count": 5,
   "id": "0dfca156",
   "metadata": {},
   "outputs": [
    {
     "name": "stdout",
     "output_type": "stream",
     "text": [
      "[1] \"Train-Test split successful.\"\n"
     ]
    }
   ],
   "source": [
    "set.seed(2021)\n",
    "index=sample(1:nrow(data),size=floor(0.8*nrow(data)))\n",
    "train.set=data[index,]\n",
    "test.set=data[-index,]\n",
    "print(\"Train-Test split successful.\")"
   ]
  },
  {
   "cell_type": "markdown",
   "id": "4dc8090b",
   "metadata": {},
   "source": [
    "# Step 4- Model Training"
   ]
  },
  {
   "cell_type": "code",
   "execution_count": 7,
   "id": "ae859ef5",
   "metadata": {},
   "outputs": [
    {
     "name": "stdout",
     "output_type": "stream",
     "text": [
      "[1] \"Training complete.\"\n"
     ]
    }
   ],
   "source": [
    "linear.model=lm(Scores~Hours,data=train.set)\n",
    "summary=summary(linear.model)\n",
    "print(\"Training complete.\")"
   ]
  },
  {
   "cell_type": "markdown",
   "id": "506754fc",
   "metadata": {},
   "source": [
    "# Step 5- Plotting the Line of Regression"
   ]
  },
  {
   "cell_type": "code",
   "execution_count": 8,
   "id": "8e83bcef",
   "metadata": {},
   "outputs": [
    {
     "data": {
      "image/png": "[encoded data removed]",
      "text/plain": [
       "Plot with title \"Hours vs Percentage\""
      ]
     },
     "metadata": {},
     "output_type": "display_data"
    }
   ],
   "source": [
    "plot(x,y,xlab=\"Hours Studied\",ylab=\"Percentage Score\",main=\"Hours vs Percentage\",\n",
    "     col=\"red\",pch=20,cex=1.75)\n",
    "abline(linear.model,col=\"blue\")"
   ]
  },
  {
   "cell_type": "markdown",
   "id": "eaf85ad8",
   "metadata": {},
   "source": [
    "# Step 6- Making Predictions"
   ]
  },
  {
   "cell_type": "markdown",
   "id": "17042818",
   "metadata": {},
   "source": [
    "After training our model, we can test the model by makng predictions using test set."
   ]
  },
  {
   "cell_type": "code",
   "execution_count": 9,
   "id": "5ca89e83",
   "metadata": {},
   "outputs": [
    {
     "data": {
      "text/html": [
       "<dl class=dl-horizontal>\n",
       "\t<dt>1</dt>\n",
       "\t\t<dd>27.1439825844081</dd>\n",
       "\t<dt>8</dt>\n",
       "\t\t<dd>56.387390125688</dd>\n",
       "\t<dt>13</dt>\n",
       "\t\t<dd>46.6395876119281</dd>\n",
       "\t<dt>15</dt>\n",
       "\t\t<dd>13.4970590651442</dd>\n",
       "\t<dt>21</dt>\n",
       "\t\t<dd>29.0935430871601</dd>\n",
       "</dl>\n"
      ],
      "text/latex": [
       "\\begin{description*}\n",
       "\\item[1] 27.1439825844081\n",
       "\\item[8] 56.387390125688\n",
       "\\item[13] 46.6395876119281\n",
       "\\item[15] 13.4970590651442\n",
       "\\item[21] 29.0935430871601\n",
       "\\end{description*}\n"
      ],
      "text/markdown": [
       "1\n",
       ":   27.14398258440818\n",
       ":   56.38739012568813\n",
       ":   46.639587611928115\n",
       ":   13.497059065144221\n",
       ":   29.0935430871601\n",
       "\n"
      ],
      "text/plain": [
       "       1        8       13       15       21 \n",
       "27.14398 56.38739 46.63959 13.49706 29.09354 "
      ]
     },
     "metadata": {},
     "output_type": "display_data"
    },
    {
     "data": {
      "text/html": [
       "<table>\n",
       "<thead><tr><th></th><th scope=col>actual</th><th scope=col>predicted</th></tr></thead>\n",
       "<tbody>\n",
       "\t<tr><th scope=row>1</th><td>21      </td><td>27.14398</td></tr>\n",
       "\t<tr><th scope=row>8</th><td>60      </td><td>56.38739</td></tr>\n",
       "\t<tr><th scope=row>13</th><td>41      </td><td>46.63959</td></tr>\n",
       "\t<tr><th scope=row>15</th><td>17      </td><td>13.49706</td></tr>\n",
       "\t<tr><th scope=row>21</th><td>30      </td><td>29.09354</td></tr>\n",
       "</tbody>\n",
       "</table>\n"
      ],
      "text/latex": [
       "\\begin{tabular}{r|ll}\n",
       "  & actual & predicted\\\\\n",
       "\\hline\n",
       "\t1 & 21       & 27.14398\\\\\n",
       "\t8 & 60       & 56.38739\\\\\n",
       "\t13 & 41       & 46.63959\\\\\n",
       "\t15 & 17       & 13.49706\\\\\n",
       "\t21 & 30       & 29.09354\\\\\n",
       "\\end{tabular}\n"
      ],
      "text/markdown": [
       "\n",
       "| <!--/--> | actual | predicted |\n",
       "|---|---|---|\n",
       "| 1 | 21       | 27.14398 |\n",
       "| 8 | 60       | 56.38739 |\n",
       "| 13 | 41       | 46.63959 |\n",
       "| 15 | 17       | 13.49706 |\n",
       "| 21 | 30       | 29.09354 |\n",
       "\n"
      ],
      "text/plain": [
       "   actual predicted\n",
       "1  21     27.14398 \n",
       "8  60     56.38739 \n",
       "13 41     46.63959 \n",
       "15 17     13.49706 \n",
       "21 30     29.09354 "
      ]
     },
     "metadata": {},
     "output_type": "display_data"
    }
   ],
   "source": [
    "predicted=predict(linear.model, newdata=test.set,type=\"response\")\n",
    "predicted\n",
    "actual=test.set[,2]\n",
    "data.frame(actual,predicted)"
   ]
  },
  {
   "cell_type": "code",
   "execution_count": 10,
   "id": "8482a277",
   "metadata": {},
   "outputs": [
    {
     "data": {
      "text/html": [
       "'Number of hours studied: 9.25'"
      ],
      "text/latex": [
       "'Number of hours studied: 9.25'"
      ],
      "text/markdown": [
       "'Number of hours studied: 9.25'"
      ],
      "text/plain": [
       "[1] \"Number of hours studied: 9.25\""
      ]
     },
     "metadata": {},
     "output_type": "display_data"
    },
    {
     "data": {
      "text/html": [
       "'Predicted score is: 92.9416495522879'"
      ],
      "text/latex": [
       "'Predicted score is: 92.9416495522879'"
      ],
      "text/markdown": [
       "'Predicted score is: 92.9416495522879'"
      ],
      "text/plain": [
       "[1] \"Predicted score is: 92.9416495522879\""
      ]
     },
     "metadata": {},
     "output_type": "display_data"
    }
   ],
   "source": [
    "#Testing the model with given observation.\n",
    "hours=9.25\n",
    "predicted_score=predict(linear.model,data.frame(Hours=c(hours)))\n",
    "paste(\"Number of hours studied:\",hours)\n",
    "paste(\"Predicted score is:\",predicted_score)"
   ]
  },
  {
   "cell_type": "markdown",
   "id": "ef0dfca4",
   "metadata": {},
   "source": [
    "# Step 7- Evaluating the Model"
   ]
  },
  {
   "cell_type": "markdown",
   "id": "9fe3970c",
   "metadata": {},
   "source": [
    "The final step is to evaluate the performance of algorithm. This step is particularly important to compare how well different algorithms perform on a particular dataset. I have calculated different errors to compare the model performance."
   ]
  },
  {
   "cell_type": "code",
   "execution_count": 8,
   "id": "41169190",
   "metadata": {},
   "outputs": [
    {
     "data": {
      "text/html": [
       "'Mean Absolute Error: 3.96111558366877'"
      ],
      "text/latex": [
       "'Mean Absolute Error: 3.96111558366877'"
      ],
      "text/markdown": [
       "'Mean Absolute Error: 3.96111558366877'"
      ],
      "text/plain": [
       "[1] \"Mean Absolute Error: 3.96111558366877\""
      ]
     },
     "metadata": {},
     "output_type": "display_data"
    },
    {
     "data": {
      "text/html": [
       "'Mean Squared Error: 19.1393359724046'"
      ],
      "text/latex": [
       "'Mean Squared Error: 19.1393359724046'"
      ],
      "text/markdown": [
       "'Mean Squared Error: 19.1393359724046'"
      ],
      "text/plain": [
       "[1] \"Mean Squared Error: 19.1393359724046\""
      ]
     },
     "metadata": {},
     "output_type": "display_data"
    },
    {
     "data": {
      "text/html": [
       "'Root Mean Squared Error: 4.37485268008016'"
      ],
      "text/latex": [
       "'Root Mean Squared Error: 4.37485268008016'"
      ],
      "text/markdown": [
       "'Root Mean Squared Error: 4.37485268008016'"
      ],
      "text/plain": [
       "[1] \"Root Mean Squared Error: 4.37485268008016\""
      ]
     },
     "metadata": {},
     "output_type": "display_data"
    }
   ],
   "source": [
    "test_mse=mean((actual-predicted)^2)\n",
    "test_rmse=sqrt(test_mse)\n",
    "test_mae=mean(abs(actual-predicted))\n",
    "paste(\"Mean Absolute Error:\",test_mae)\n",
    "paste(\"Mean Squared Error:\",test_mse)\n",
    "paste(\"Root Mean Squared Error:\",test_rmse)"
   ]
  },
  {
   "cell_type": "markdown",
   "id": "3f11a3c4",
   "metadata": {},
   "source": [
    "# Conclusion"
   ]
  },
  {
   "cell_type": "markdown",
   "id": "88fa988f",
   "metadata": {},
   "source": [
    "**I have carried out prediction using supervised Machine Learning task and evaluated the model's performance. From my above analysis, I can say that if a student studied for 9.25 hours, he/she will secure 92.94 marks.**"
   ]
  },
  {
   "cell_type": "markdown",
   "id": "afef3fed",
   "metadata": {},
   "source": [
    "# Thank You"
   ]
  },
  {
   "cell_type": "code",
   "execution_count": null,
   "id": "e11f0ab9",
   "metadata": {},
   "outputs": [],
   "source": []
  }
 ],
 "metadata": {
  "kernelspec": {
   "display_name": "R",
   "language": "R",
   "name": "ir"
  },
  "language_info": {
   "codemirror_mode": "r",
   "file_extension": ".r",
   "mimetype": "text/x-r-source",
   "name": "R",
   "pygments_lexer": "r",
   "version": "3.6.1"
  }
 },
 "nbformat": 4,
 "nbformat_minor": 5
}
